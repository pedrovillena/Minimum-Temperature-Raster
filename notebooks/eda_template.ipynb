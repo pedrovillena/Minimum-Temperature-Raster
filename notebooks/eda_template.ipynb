{
  "cells": [
    {
      "cell_type": "markdown",
      "metadata": {},
      "source": [
        "# Tmin Peru — EDA & Zonal Stats"
      ]
    },
    {
      "cell_type": "code",
      "execution_count": null,
      "metadata": {},
      "outputs": [],
      "source": [
        "import geopandas as gpd, pandas as pd, numpy as np",
        "from src.utils import normalize_columns",
        "from src.zonal_stats import compute_zonal_stats, attach_index",
        "import os",
        "shp_path = 'data/DISTRITOS.shp'",
        "raster_path = 'data/tmin_raster.tif'",
        "gdf = gpd.read_file(shp_path).to_crs('EPSG:4326')",
        "gdf = normalize_columns(gdf)",
        "df = compute_zonal_stats(gdf, raster_path, band=1, threshold=0.0)",
        "out = attach_index(gdf, df, level='district')",
        "out.head()"
      ]
    }
  ],
  "metadata": {
    "kernelspec": {
      "display_name": "Python 3",
      "language": "python",
      "name": "python3"
    },
    "language_info": {
      "name": "python",
      "version": "3.10"
    }
  },
  "nbformat": 4,
  "nbformat_minor": 5
}